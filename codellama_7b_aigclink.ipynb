{
  "nbformat": 4,
  "nbformat_minor": 0,
  "metadata": {
    "colab": {
      "provenance": [],
      "machine_shape": "hm",
      "gpuType": "A100",
      "include_colab_link": true
    },
    "kernelspec": {
      "name": "python3",
      "display_name": "Python 3"
    },
    "language_info": {
      "name": "python"
    },
    "accelerator": "GPU"
  },
  "cells": [
    {
      "cell_type": "markdown",
      "metadata": {
        "id": "view-in-github",
        "colab_type": "text"
      },
      "source": [
        "<a href=\"https://colab.research.google.com/github/SAGISHIRA/SAGISHIRA/blob/main/codellama_7b_aigclink.ipynb\" target=\"_parent\"><img src=\"https://colab.research.google.com/assets/colab-badge.svg\" alt=\"Open In Colab\"/></a>"
      ]
    },
    {
      "cell_type": "markdown",
      "source": [
        "\n",
        "\n",
        "aigclink版权所有\n",
        "\n",
        "使用codellama的源码\n",
        "YouTube频道：https://www.youtube.com/watch?v=qB4613_X0hM&t=9s\n",
        "b站：https://www.bilibili.com/video/BV1Tu4y1D7JK/?vd_source=fd69fd00e7b4da63098b52ad0f079898\n"
      ],
      "metadata": {
        "id": "r2CkorsyW5E8"
      }
    },
    {
      "cell_type": "code",
      "execution_count": null,
      "metadata": {
        "colab": {
          "base_uri": "https://localhost:8080/"
        },
        "id": "CNBlZN6zTEgW",
        "outputId": "11d3b3a7-288b-4728-d60c-be29e1ea0330"
      },
      "outputs": [
        {
          "output_type": "stream",
          "name": "stdout",
          "text": [
            "fatal: destination path 'codellama' already exists and is not an empty directory.\n"
          ]
        }
      ],
      "source": [
        "!git clone https://github.com/facebookresearch/codellama.git"
      ]
    },
    {
      "cell_type": "code",
      "source": [
        "!cd /content/codellama"
      ],
      "metadata": {
        "id": "01Cv81LHTNKC"
      },
      "execution_count": null,
      "outputs": []
    },
    {
      "cell_type": "code",
      "source": [
        "!bash /content/codellama/download.sh"
      ],
      "metadata": {
        "colab": {
          "base_uri": "https://localhost:8080/"
        },
        "id": "-eeHlhUfTPev",
        "outputId": "c3532ecc-8773-465f-f6c3-a8343d976b1d"
      },
      "execution_count": 11,
      "outputs": [
        {
          "output_type": "stream",
          "name": "stdout",
          "text": [
            "Enter the URL from email: https://download.llamameta.net/*?Policy=eyJTdGF0ZW1lbnQiOlt7InVuaXF1ZV9oYXNoIjoiMm15cnYzaWEyOGc3M3JwMnlkM3FyOTljIiwiUmVzb3VyY2UiOiJodHRwczpcL1wvZG93bmxvYWQubGxhbWFtZXRhLm5ldFwvKiIsIkNvbmRpdGlvbiI6eyJEYXRlTGVzc1RoYW4iOnsiQVdTOkVwb2NoVGltZSI6MTY5MzU3ODQ3NH19fV19&Signature=Fc4UxWjRVBOIkV4jOqfD2vBXv1BVn4VmgELMtALH4bbuDS1TWLzk%7ENEQzfYMbeh4rXfBxStswwqZMQv4%7EinQbIKz1ck4fbrCEizClt5yFdzPOhOfnQDQD08Hh0JQwlM3BLl2W7d9UAjDKXD3DhCq-qQZjUX-brUHNlzVQzRcOD3kp4ae2EF%7EVz-SW8k9lJ1xF-Hebht%7EN%7E2GO1vHgv0ODJfqvtyUCgMSi-3ysvkCk7JFfZZ5GKohivX7Bk9fWfc3SbUouxrsBJMIlzNjdLJLKe-imH3s02DW8i6tR437YWUsNoBXE4KFaCe1%7Ey6N0-LamwjTFTivkHwf974u2Da68g__&Key-Pair-Id=K15QRJLYKIFSLZ&Download-Request-ID=675027657919709\n",
            "\n",
            "Enter the list of models to download without spaces (7b,13b,34b,7b-Python,13b-Python,34b-Python,7b-Instruct,13b-Instruct,34b-Instruct), or press Enter for all: 7b\n",
            "Downloading LICENSE and Acceptable Usage Policy\n",
            "--2023-08-31 22:42:27--  https://download.llamameta.net/LICENSE?Policy=eyJTdGF0ZW1lbnQiOlt7InVuaXF1ZV9oYXNoIjoiMm15cnYzaWEyOGc3M3JwMnlkM3FyOTljIiwiUmVzb3VyY2UiOiJodHRwczpcL1wvZG93bmxvYWQubGxhbWFtZXRhLm5ldFwvKiIsIkNvbmRpdGlvbiI6eyJEYXRlTGVzc1RoYW4iOnsiQVdTOkVwb2NoVGltZSI6MTY5MzU3ODQ3NH19fV19&Signature=Fc4UxWjRVBOIkV4jOqfD2vBXv1BVn4VmgELMtALH4bbuDS1TWLzk%7ENEQzfYMbeh4rXfBxStswwqZMQv4%7EinQbIKz1ck4fbrCEizClt5yFdzPOhOfnQDQD08Hh0JQwlM3BLl2W7d9UAjDKXD3DhCq-qQZjUX-brUHNlzVQzRcOD3kp4ae2EF%7EVz-SW8k9lJ1xF-Hebht%7EN%7E2GO1vHgv0ODJfqvtyUCgMSi-3ysvkCk7JFfZZ5GKohivX7Bk9fWfc3SbUouxrsBJMIlzNjdLJLKe-imH3s02DW8i6tR437YWUsNoBXE4KFaCe1%7Ey6N0-LamwjTFTivkHwf974u2Da68g__&Key-Pair-Id=K15QRJLYKIFSLZ&Download-Request-ID=675027657919709\n",
            "Resolving download.llamameta.net (download.llamameta.net)... 108.138.94.95, 108.138.94.71, 108.138.94.120, ...\n",
            "Connecting to download.llamameta.net (download.llamameta.net)|108.138.94.95|:443... connected.\n",
            "HTTP request sent, awaiting response... 200 OK\n",
            "Length: 7020 (6.9K) [binary/octet-stream]\n",
            "Saving to: ‘./LICENSE’\n",
            "\n",
            "./LICENSE           100%[===================>]   6.86K  --.-KB/s    in 0s      \n",
            "\n",
            "2023-08-31 22:42:27 (3.39 GB/s) - ‘./LICENSE’ saved [7020/7020]\n",
            "\n",
            "--2023-08-31 22:42:27--  https://download.llamameta.net/USE_POLICY.md?Policy=eyJTdGF0ZW1lbnQiOlt7InVuaXF1ZV9oYXNoIjoiMm15cnYzaWEyOGc3M3JwMnlkM3FyOTljIiwiUmVzb3VyY2UiOiJodHRwczpcL1wvZG93bmxvYWQubGxhbWFtZXRhLm5ldFwvKiIsIkNvbmRpdGlvbiI6eyJEYXRlTGVzc1RoYW4iOnsiQVdTOkVwb2NoVGltZSI6MTY5MzU3ODQ3NH19fV19&Signature=Fc4UxWjRVBOIkV4jOqfD2vBXv1BVn4VmgELMtALH4bbuDS1TWLzk%7ENEQzfYMbeh4rXfBxStswwqZMQv4%7EinQbIKz1ck4fbrCEizClt5yFdzPOhOfnQDQD08Hh0JQwlM3BLl2W7d9UAjDKXD3DhCq-qQZjUX-brUHNlzVQzRcOD3kp4ae2EF%7EVz-SW8k9lJ1xF-Hebht%7EN%7E2GO1vHgv0ODJfqvtyUCgMSi-3ysvkCk7JFfZZ5GKohivX7Bk9fWfc3SbUouxrsBJMIlzNjdLJLKe-imH3s02DW8i6tR437YWUsNoBXE4KFaCe1%7Ey6N0-LamwjTFTivkHwf974u2Da68g__&Key-Pair-Id=K15QRJLYKIFSLZ&Download-Request-ID=675027657919709\n",
            "Resolving download.llamameta.net (download.llamameta.net)... 108.138.94.95, 108.138.94.71, 108.138.94.120, ...\n",
            "Connecting to download.llamameta.net (download.llamameta.net)|108.138.94.95|:443... connected.\n",
            "HTTP request sent, awaiting response... 200 OK\n",
            "Length: 4766 (4.7K) [binary/octet-stream]\n",
            "Saving to: ‘./USE_POLICY.md’\n",
            "\n",
            "./USE_POLICY.md     100%[===================>]   4.65K  --.-KB/s    in 0s      \n",
            "\n",
            "2023-08-31 22:42:27 (262 MB/s) - ‘./USE_POLICY.md’ saved [4766/4766]\n",
            "\n",
            "Downloading CodeLlama-7b\n",
            "--2023-08-31 22:42:27--  https://download.llamameta.net/CodeLlama-7b/consolidated.00.pth?Policy=eyJTdGF0ZW1lbnQiOlt7InVuaXF1ZV9oYXNoIjoiMm15cnYzaWEyOGc3M3JwMnlkM3FyOTljIiwiUmVzb3VyY2UiOiJodHRwczpcL1wvZG93bmxvYWQubGxhbWFtZXRhLm5ldFwvKiIsIkNvbmRpdGlvbiI6eyJEYXRlTGVzc1RoYW4iOnsiQVdTOkVwb2NoVGltZSI6MTY5MzU3ODQ3NH19fV19&Signature=Fc4UxWjRVBOIkV4jOqfD2vBXv1BVn4VmgELMtALH4bbuDS1TWLzk%7ENEQzfYMbeh4rXfBxStswwqZMQv4%7EinQbIKz1ck4fbrCEizClt5yFdzPOhOfnQDQD08Hh0JQwlM3BLl2W7d9UAjDKXD3DhCq-qQZjUX-brUHNlzVQzRcOD3kp4ae2EF%7EVz-SW8k9lJ1xF-Hebht%7EN%7E2GO1vHgv0ODJfqvtyUCgMSi-3ysvkCk7JFfZZ5GKohivX7Bk9fWfc3SbUouxrsBJMIlzNjdLJLKe-imH3s02DW8i6tR437YWUsNoBXE4KFaCe1%7Ey6N0-LamwjTFTivkHwf974u2Da68g__&Key-Pair-Id=K15QRJLYKIFSLZ&Download-Request-ID=675027657919709\n",
            "Resolving download.llamameta.net (download.llamameta.net)... 108.138.94.95, 108.138.94.71, 108.138.94.120, ...\n",
            "Connecting to download.llamameta.net (download.llamameta.net)|108.138.94.95|:443... connected.\n",
            "HTTP request sent, awaiting response... 403 Forbidden\n",
            "2023-08-31 22:42:28 ERROR 403: Forbidden.\n",
            "\n",
            "--2023-08-31 22:42:28--  https://download.llamameta.net/CodeLlama-7b/params.json?Policy=eyJTdGF0ZW1lbnQiOlt7InVuaXF1ZV9oYXNoIjoiMm15cnYzaWEyOGc3M3JwMnlkM3FyOTljIiwiUmVzb3VyY2UiOiJodHRwczpcL1wvZG93bmxvYWQubGxhbWFtZXRhLm5ldFwvKiIsIkNvbmRpdGlvbiI6eyJEYXRlTGVzc1RoYW4iOnsiQVdTOkVwb2NoVGltZSI6MTY5MzU3ODQ3NH19fV19&Signature=Fc4UxWjRVBOIkV4jOqfD2vBXv1BVn4VmgELMtALH4bbuDS1TWLzk%7ENEQzfYMbeh4rXfBxStswwqZMQv4%7EinQbIKz1ck4fbrCEizClt5yFdzPOhOfnQDQD08Hh0JQwlM3BLl2W7d9UAjDKXD3DhCq-qQZjUX-brUHNlzVQzRcOD3kp4ae2EF%7EVz-SW8k9lJ1xF-Hebht%7EN%7E2GO1vHgv0ODJfqvtyUCgMSi-3ysvkCk7JFfZZ5GKohivX7Bk9fWfc3SbUouxrsBJMIlzNjdLJLKe-imH3s02DW8i6tR437YWUsNoBXE4KFaCe1%7Ey6N0-LamwjTFTivkHwf974u2Da68g__&Key-Pair-Id=K15QRJLYKIFSLZ&Download-Request-ID=675027657919709\n",
            "Resolving download.llamameta.net (download.llamameta.net)... 108.138.94.95, 108.138.94.71, 108.138.94.120, ...\n",
            "Connecting to download.llamameta.net (download.llamameta.net)|108.138.94.95|:443... connected.\n",
            "HTTP request sent, awaiting response... 403 Forbidden\n",
            "2023-08-31 22:42:28 ERROR 403: Forbidden.\n",
            "\n",
            "--2023-08-31 22:42:28--  https://download.llamameta.net/CodeLlama-7b/tokenizer.model?Policy=eyJTdGF0ZW1lbnQiOlt7InVuaXF1ZV9oYXNoIjoiMm15cnYzaWEyOGc3M3JwMnlkM3FyOTljIiwiUmVzb3VyY2UiOiJodHRwczpcL1wvZG93bmxvYWQubGxhbWFtZXRhLm5ldFwvKiIsIkNvbmRpdGlvbiI6eyJEYXRlTGVzc1RoYW4iOnsiQVdTOkVwb2NoVGltZSI6MTY5MzU3ODQ3NH19fV19&Signature=Fc4UxWjRVBOIkV4jOqfD2vBXv1BVn4VmgELMtALH4bbuDS1TWLzk%7ENEQzfYMbeh4rXfBxStswwqZMQv4%7EinQbIKz1ck4fbrCEizClt5yFdzPOhOfnQDQD08Hh0JQwlM3BLl2W7d9UAjDKXD3DhCq-qQZjUX-brUHNlzVQzRcOD3kp4ae2EF%7EVz-SW8k9lJ1xF-Hebht%7EN%7E2GO1vHgv0ODJfqvtyUCgMSi-3ysvkCk7JFfZZ5GKohivX7Bk9fWfc3SbUouxrsBJMIlzNjdLJLKe-imH3s02DW8i6tR437YWUsNoBXE4KFaCe1%7Ey6N0-LamwjTFTivkHwf974u2Da68g__&Key-Pair-Id=K15QRJLYKIFSLZ&Download-Request-ID=675027657919709\n",
            "Resolving download.llamameta.net (download.llamameta.net)... 108.138.94.95, 108.138.94.71, 108.138.94.120, ...\n",
            "Connecting to download.llamameta.net (download.llamameta.net)|108.138.94.95|:443... connected.\n",
            "HTTP request sent, awaiting response... 403 Forbidden\n",
            "2023-08-31 22:42:29 ERROR 403: Forbidden.\n",
            "\n",
            "--2023-08-31 22:42:29--  https://download.llamameta.net/CodeLlama-7b/checklist.chk?Policy=eyJTdGF0ZW1lbnQiOlt7InVuaXF1ZV9oYXNoIjoiMm15cnYzaWEyOGc3M3JwMnlkM3FyOTljIiwiUmVzb3VyY2UiOiJodHRwczpcL1wvZG93bmxvYWQubGxhbWFtZXRhLm5ldFwvKiIsIkNvbmRpdGlvbiI6eyJEYXRlTGVzc1RoYW4iOnsiQVdTOkVwb2NoVGltZSI6MTY5MzU3ODQ3NH19fV19&Signature=Fc4UxWjRVBOIkV4jOqfD2vBXv1BVn4VmgELMtALH4bbuDS1TWLzk%7ENEQzfYMbeh4rXfBxStswwqZMQv4%7EinQbIKz1ck4fbrCEizClt5yFdzPOhOfnQDQD08Hh0JQwlM3BLl2W7d9UAjDKXD3DhCq-qQZjUX-brUHNlzVQzRcOD3kp4ae2EF%7EVz-SW8k9lJ1xF-Hebht%7EN%7E2GO1vHgv0ODJfqvtyUCgMSi-3ysvkCk7JFfZZ5GKohivX7Bk9fWfc3SbUouxrsBJMIlzNjdLJLKe-imH3s02DW8i6tR437YWUsNoBXE4KFaCe1%7Ey6N0-LamwjTFTivkHwf974u2Da68g__&Key-Pair-Id=K15QRJLYKIFSLZ&Download-Request-ID=675027657919709\n",
            "Resolving download.llamameta.net (download.llamameta.net)... 108.138.94.95, 108.138.94.71, 108.138.94.120, ...\n",
            "Connecting to download.llamameta.net (download.llamameta.net)|108.138.94.95|:443... connected.\n",
            "HTTP request sent, awaiting response... 403 Forbidden\n",
            "2023-08-31 22:42:29 ERROR 403: Forbidden.\n",
            "\n",
            "Checking checksums\n",
            "md5sum: checklist.chk: no properly formatted MD5 checksum lines found\n"
          ]
        }
      ]
    },
    {
      "cell_type": "code",
      "source": [
        "!pip install -e /content/codellama/."
      ],
      "metadata": {
        "colab": {
          "base_uri": "https://localhost:8080/"
        },
        "id": "MjIQVmMiUN4t",
        "outputId": "86897e17-0b4a-4630-9cf4-acd8060f0110"
      },
      "execution_count": null,
      "outputs": [
        {
          "output_type": "stream",
          "name": "stdout",
          "text": [
            "Obtaining file:///content/codellama\n",
            "  Preparing metadata (setup.py) ... \u001b[?25l\u001b[?25hdone\n",
            "Requirement already satisfied: torch in /usr/local/lib/python3.10/dist-packages (from codellama==0.0.1) (2.0.1+cu118)\n",
            "Requirement already satisfied: fairscale in /usr/local/lib/python3.10/dist-packages (from codellama==0.0.1) (0.4.13)\n",
            "Requirement already satisfied: fire in /usr/local/lib/python3.10/dist-packages (from codellama==0.0.1) (0.5.0)\n",
            "Requirement already satisfied: sentencepiece in /usr/local/lib/python3.10/dist-packages (from codellama==0.0.1) (0.1.99)\n",
            "Requirement already satisfied: numpy>=1.22.0 in /usr/local/lib/python3.10/dist-packages (from fairscale->codellama==0.0.1) (1.23.5)\n",
            "Requirement already satisfied: filelock in /usr/local/lib/python3.10/dist-packages (from torch->codellama==0.0.1) (3.12.2)\n",
            "Requirement already satisfied: typing-extensions in /usr/local/lib/python3.10/dist-packages (from torch->codellama==0.0.1) (4.7.1)\n",
            "Requirement already satisfied: sympy in /usr/local/lib/python3.10/dist-packages (from torch->codellama==0.0.1) (1.12)\n",
            "Requirement already satisfied: networkx in /usr/local/lib/python3.10/dist-packages (from torch->codellama==0.0.1) (3.1)\n",
            "Requirement already satisfied: jinja2 in /usr/local/lib/python3.10/dist-packages (from torch->codellama==0.0.1) (3.1.2)\n",
            "Requirement already satisfied: triton==2.0.0 in /usr/local/lib/python3.10/dist-packages (from torch->codellama==0.0.1) (2.0.0)\n",
            "Requirement already satisfied: cmake in /usr/local/lib/python3.10/dist-packages (from triton==2.0.0->torch->codellama==0.0.1) (3.27.2)\n",
            "Requirement already satisfied: lit in /usr/local/lib/python3.10/dist-packages (from triton==2.0.0->torch->codellama==0.0.1) (16.0.6)\n",
            "Requirement already satisfied: six in /usr/local/lib/python3.10/dist-packages (from fire->codellama==0.0.1) (1.16.0)\n",
            "Requirement already satisfied: termcolor in /usr/local/lib/python3.10/dist-packages (from fire->codellama==0.0.1) (2.3.0)\n",
            "Requirement already satisfied: MarkupSafe>=2.0 in /usr/local/lib/python3.10/dist-packages (from jinja2->torch->codellama==0.0.1) (2.1.3)\n",
            "Requirement already satisfied: mpmath>=0.19 in /usr/local/lib/python3.10/dist-packages (from sympy->torch->codellama==0.0.1) (1.3.0)\n",
            "Installing collected packages: codellama\n",
            "  Attempting uninstall: codellama\n",
            "    Found existing installation: codellama 0.0.1\n",
            "    Uninstalling codellama-0.0.1:\n",
            "      Successfully uninstalled codellama-0.0.1\n",
            "  Running setup.py develop for codellama\n",
            "Successfully installed codellama-0.0.1\n"
          ]
        }
      ]
    },
    {
      "cell_type": "code",
      "source": [
        "pwd"
      ],
      "metadata": {
        "colab": {
          "base_uri": "https://localhost:8080/",
          "height": 41
        },
        "id": "KXeLMm2aX13F",
        "outputId": "b16407b3-76e1-45d7-9137-fb3eead2e972"
      },
      "execution_count": 12,
      "outputs": [
        {
          "output_type": "execute_result",
          "data": {
            "text/plain": [
              "'/content'"
            ],
            "application/vnd.google.colaboratory.intrinsic+json": {
              "type": "string"
            }
          },
          "metadata": {},
          "execution_count": 12
        }
      ]
    },
    {
      "cell_type": "code",
      "source": [
        "!torchrun --nproc_per_node 1 /content/codellama/example_infilling.py \\\n",
        "    --ckpt_dir /content/CodeLlama-7b/ \\\n",
        "    --tokenizer_path /content/CodeLlama-7b/tokenizer.model \\\n",
        "    --max_seq_len 192 --max_batch_size 4\n"
      ],
      "metadata": {
        "colab": {
          "base_uri": "https://localhost:8080/"
        },
        "id": "G0VaRaDkU_sK",
        "outputId": "cffc48db-87a9-401d-e254-6361067c3e04"
      },
      "execution_count": 14,
      "outputs": [
        {
          "output_type": "stream",
          "name": "stdout",
          "text": [
            "Traceback (most recent call last):\n",
            "  File \"/content/codellama/example_infilling.py\", line 4, in <module>\n",
            "    import fire\n",
            "ModuleNotFoundError: No module named 'fire'\n",
            "ERROR:torch.distributed.elastic.multiprocessing.api:failed (exitcode: 1) local_rank: 0 (pid: 7040) of binary: /usr/bin/python3\n",
            "Traceback (most recent call last):\n",
            "  File \"/usr/local/bin/torchrun\", line 8, in <module>\n",
            "    sys.exit(main())\n",
            "  File \"/usr/local/lib/python3.10/dist-packages/torch/distributed/elastic/multiprocessing/errors/__init__.py\", line 346, in wrapper\n",
            "    return f(*args, **kwargs)\n",
            "  File \"/usr/local/lib/python3.10/dist-packages/torch/distributed/run.py\", line 794, in main\n",
            "    run(args)\n",
            "  File \"/usr/local/lib/python3.10/dist-packages/torch/distributed/run.py\", line 785, in run\n",
            "    elastic_launch(\n",
            "  File \"/usr/local/lib/python3.10/dist-packages/torch/distributed/launcher/api.py\", line 134, in __call__\n",
            "    return launch_agent(self._config, self._entrypoint, list(args))\n",
            "  File \"/usr/local/lib/python3.10/dist-packages/torch/distributed/launcher/api.py\", line 250, in launch_agent\n",
            "    raise ChildFailedError(\n",
            "torch.distributed.elastic.multiprocessing.errors.ChildFailedError: \n",
            "============================================================\n",
            "/content/codellama/example_infilling.py FAILED\n",
            "------------------------------------------------------------\n",
            "Failures:\n",
            "  <NO_OTHER_FAILURES>\n",
            "------------------------------------------------------------\n",
            "Root Cause (first observed failure):\n",
            "[0]:\n",
            "  time      : 2023-08-31_22:47:28\n",
            "  host      : 81f82448e744\n",
            "  rank      : 0 (local_rank: 0)\n",
            "  exitcode  : 1 (pid: 7040)\n",
            "  error_file: <N/A>\n",
            "  traceback : To enable traceback see: https://pytorch.org/docs/stable/elastic/errors.html\n",
            "============================================================\n"
          ]
        }
      ]
    }
  ]
}